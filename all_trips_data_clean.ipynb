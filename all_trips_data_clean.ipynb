{
 "cells": [
  {
   "cell_type": "code",
   "execution_count": 1,
   "id": "4e7d39e1",
   "metadata": {},
   "outputs": [],
   "source": [
    "import pandas as pd\n",
    "import numpy as np"
   ]
  },
  {
   "cell_type": "code",
   "execution_count": 2,
   "id": "b8ce020d",
   "metadata": {},
   "outputs": [],
   "source": [
    "from datetime import datetime"
   ]
  },
  {
   "cell_type": "code",
   "execution_count": 159,
   "id": "5fcfb374",
   "metadata": {},
   "outputs": [
    {
     "name": "stderr",
     "output_type": "stream",
     "text": [
      "/Users/chenjuanqi/opt/anaconda3/lib/python3.9/site-packages/IPython/core/interactiveshell.py:3444: DtypeWarning: Columns (1,5,8,11,16,17) have mixed types.Specify dtype option on import or set low_memory=False.\n",
      "  exec(code_obj, self.user_global_ns, self.user_ns)\n"
     ]
    },
    {
     "data": {
      "text/plain": [
       "(9160223, 18)"
      ]
     },
     "execution_count": 159,
     "metadata": {},
     "output_type": "execute_result"
    }
   ],
   "source": [
    "# read all_trips.csv\n",
    "all_trips_data = pd.read_csv(\"all_trips.csv\")\n",
    "all_trips_data.shape"
   ]
  },
  {
   "cell_type": "code",
   "execution_count": 160,
   "id": "4225b772",
   "metadata": {},
   "outputs": [
    {
     "data": {
      "text/plain": [
       "(7739591, 18)"
      ]
     },
     "execution_count": 160,
     "metadata": {},
     "output_type": "execute_result"
    }
   ],
   "source": [
    "# drop all NAs in end_station_name and start_station_name\n",
    "all_trips_data = all_trips_data.dropna(subset=['end_station_name', 'start_station_name'])\n",
    "all_trips_data.shape"
   ]
  },
  {
   "cell_type": "code",
   "execution_count": 206,
   "id": "fc2f2991",
   "metadata": {},
   "outputs": [
    {
     "data": {
      "text/html": [
       "<div>\n",
       "<style scoped>\n",
       "    .dataframe tbody tr th:only-of-type {\n",
       "        vertical-align: middle;\n",
       "    }\n",
       "\n",
       "    .dataframe tbody tr th {\n",
       "        vertical-align: top;\n",
       "    }\n",
       "\n",
       "    .dataframe thead th {\n",
       "        text-align: right;\n",
       "    }\n",
       "</style>\n",
       "<table border=\"1\" class=\"dataframe\">\n",
       "  <thead>\n",
       "    <tr style=\"text-align: right;\">\n",
       "      <th></th>\n",
       "      <th>Unnamed: 0</th>\n",
       "      <th>ride_id</th>\n",
       "      <th>duration_sec</th>\n",
       "      <th>start_time</th>\n",
       "      <th>start_station_name</th>\n",
       "      <th>start_station_id</th>\n",
       "      <th>end_time</th>\n",
       "      <th>end_station_name</th>\n",
       "      <th>end_station_id</th>\n",
       "      <th>bike_id</th>\n",
       "      <th>user_type</th>\n",
       "      <th>zip_code</th>\n",
       "      <th>start_station_latitude</th>\n",
       "      <th>start_station_longitude</th>\n",
       "      <th>end_station_latitude</th>\n",
       "      <th>end_station_longitude</th>\n",
       "      <th>rental_access_method</th>\n",
       "      <th>bike_type</th>\n",
       "    </tr>\n",
       "  </thead>\n",
       "  <tbody>\n",
       "    <tr>\n",
       "      <th>5449516</th>\n",
       "      <td>9132641</td>\n",
       "      <td>405802227549A10C</td>\n",
       "      <td>290.0</td>\n",
       "      <td>2020-04-01 00:00:38</td>\n",
       "      <td>2nd Ave at E 18th St</td>\n",
       "      <td>OK-K9</td>\n",
       "      <td>2020-04-01 00:05:28</td>\n",
       "      <td>Lakeside Dr at 14th St</td>\n",
       "      <td>OK-L7-2</td>\n",
       "      <td>NaN</td>\n",
       "      <td>casual</td>\n",
       "      <td>NaN</td>\n",
       "      <td>37.800214</td>\n",
       "      <td>-122.253810</td>\n",
       "      <td>37.801319</td>\n",
       "      <td>-122.262642</td>\n",
       "      <td>NaN</td>\n",
       "      <td>docked_bike</td>\n",
       "    </tr>\n",
       "    <tr>\n",
       "      <th>5449517</th>\n",
       "      <td>9119165</td>\n",
       "      <td>6CB1403A6272EC42</td>\n",
       "      <td>303.0</td>\n",
       "      <td>2020-04-01 00:04:31</td>\n",
       "      <td>Bancroft Way at Telegraph Ave</td>\n",
       "      <td>BK-E9-1</td>\n",
       "      <td>2020-04-01 00:09:34</td>\n",
       "      <td>MLK Jr Way at University Ave</td>\n",
       "      <td>BK-C6</td>\n",
       "      <td>NaN</td>\n",
       "      <td>member</td>\n",
       "      <td>NaN</td>\n",
       "      <td>37.868813</td>\n",
       "      <td>-122.258764</td>\n",
       "      <td>37.871719</td>\n",
       "      <td>-122.273068</td>\n",
       "      <td>NaN</td>\n",
       "      <td>docked_bike</td>\n",
       "    </tr>\n",
       "    <tr>\n",
       "      <th>5449518</th>\n",
       "      <td>9142876</td>\n",
       "      <td>4C05A5F129E384D4</td>\n",
       "      <td>367.0</td>\n",
       "      <td>2020-04-01 00:11:02</td>\n",
       "      <td>15th St at Potrero Ave</td>\n",
       "      <td>SF-M26</td>\n",
       "      <td>2020-04-01 00:17:09</td>\n",
       "      <td>Golden Gate Ave at Polk St</td>\n",
       "      <td>SF-I23-1</td>\n",
       "      <td>NaN</td>\n",
       "      <td>member</td>\n",
       "      <td>NaN</td>\n",
       "      <td>37.767048</td>\n",
       "      <td>-122.407471</td>\n",
       "      <td>37.781322</td>\n",
       "      <td>-122.418040</td>\n",
       "      <td>NaN</td>\n",
       "      <td>electric_bike</td>\n",
       "    </tr>\n",
       "    <tr>\n",
       "      <th>5449519</th>\n",
       "      <td>9108403</td>\n",
       "      <td>5F70540BDFB36F13</td>\n",
       "      <td>2156.0</td>\n",
       "      <td>2020-04-01 00:16:42</td>\n",
       "      <td>Washington St at Kearny St</td>\n",
       "      <td>SF-D27</td>\n",
       "      <td>2020-04-01 00:52:38</td>\n",
       "      <td>Lombard St at Columbus Ave</td>\n",
       "      <td>SF-B25</td>\n",
       "      <td>NaN</td>\n",
       "      <td>member</td>\n",
       "      <td>NaN</td>\n",
       "      <td>37.795161</td>\n",
       "      <td>-122.404806</td>\n",
       "      <td>37.802764</td>\n",
       "      <td>-122.413349</td>\n",
       "      <td>NaN</td>\n",
       "      <td>electric_bike</td>\n",
       "    </tr>\n",
       "    <tr>\n",
       "      <th>5449520</th>\n",
       "      <td>9151560</td>\n",
       "      <td>B737B30D47CFBC7C</td>\n",
       "      <td>1206.0</td>\n",
       "      <td>2020-04-01 00:24:16</td>\n",
       "      <td>Snow Park</td>\n",
       "      <td>OK-J6-2</td>\n",
       "      <td>2020-04-01 00:44:22</td>\n",
       "      <td>Lakeside Dr at 14th St</td>\n",
       "      <td>OK-L7-2</td>\n",
       "      <td>NaN</td>\n",
       "      <td>casual</td>\n",
       "      <td>NaN</td>\n",
       "      <td>37.807813</td>\n",
       "      <td>-122.264496</td>\n",
       "      <td>37.801319</td>\n",
       "      <td>-122.262642</td>\n",
       "      <td>NaN</td>\n",
       "      <td>docked_bike</td>\n",
       "    </tr>\n",
       "  </tbody>\n",
       "</table>\n",
       "</div>"
      ],
      "text/plain": [
       "         Unnamed: 0           ride_id  duration_sec           start_time  \\\n",
       "5449516     9132641  405802227549A10C         290.0  2020-04-01 00:00:38   \n",
       "5449517     9119165  6CB1403A6272EC42         303.0  2020-04-01 00:04:31   \n",
       "5449518     9142876  4C05A5F129E384D4         367.0  2020-04-01 00:11:02   \n",
       "5449519     9108403  5F70540BDFB36F13        2156.0  2020-04-01 00:16:42   \n",
       "5449520     9151560  B737B30D47CFBC7C        1206.0  2020-04-01 00:24:16   \n",
       "\n",
       "                    start_station_name start_station_id             end_time  \\\n",
       "5449516           2nd Ave at E 18th St            OK-K9  2020-04-01 00:05:28   \n",
       "5449517  Bancroft Way at Telegraph Ave          BK-E9-1  2020-04-01 00:09:34   \n",
       "5449518         15th St at Potrero Ave           SF-M26  2020-04-01 00:17:09   \n",
       "5449519     Washington St at Kearny St           SF-D27  2020-04-01 00:52:38   \n",
       "5449520                      Snow Park          OK-J6-2  2020-04-01 00:44:22   \n",
       "\n",
       "                     end_station_name end_station_id  bike_id user_type  \\\n",
       "5449516        Lakeside Dr at 14th St        OK-L7-2      NaN    casual   \n",
       "5449517  MLK Jr Way at University Ave          BK-C6      NaN    member   \n",
       "5449518    Golden Gate Ave at Polk St       SF-I23-1      NaN    member   \n",
       "5449519    Lombard St at Columbus Ave         SF-B25      NaN    member   \n",
       "5449520        Lakeside Dr at 14th St        OK-L7-2      NaN    casual   \n",
       "\n",
       "        zip_code  start_station_latitude  start_station_longitude  \\\n",
       "5449516      NaN               37.800214              -122.253810   \n",
       "5449517      NaN               37.868813              -122.258764   \n",
       "5449518      NaN               37.767048              -122.407471   \n",
       "5449519      NaN               37.795161              -122.404806   \n",
       "5449520      NaN               37.807813              -122.264496   \n",
       "\n",
       "         end_station_latitude  end_station_longitude rental_access_method  \\\n",
       "5449516             37.801319            -122.262642                  NaN   \n",
       "5449517             37.871719            -122.273068                  NaN   \n",
       "5449518             37.781322            -122.418040                  NaN   \n",
       "5449519             37.802764            -122.413349                  NaN   \n",
       "5449520             37.801319            -122.262642                  NaN   \n",
       "\n",
       "             bike_type  \n",
       "5449516    docked_bike  \n",
       "5449517    docked_bike  \n",
       "5449518  electric_bike  \n",
       "5449519  electric_bike  \n",
       "5449520    docked_bike  "
      ]
     },
     "execution_count": 206,
     "metadata": {},
     "output_type": "execute_result"
    }
   ],
   "source": [
    "# sort according to start_time\n",
    "# all_trips_data = all_trips_data.sort_values(by=['start_time'])\n",
    "# reset index\n",
    "# all_trips_data = all_trips_data.reset_index(drop=True)\n",
    "# started this line, the start_time is bigger than year 2020. There is no data from 2020-01-01 to 2020-03-31\n",
    "new_trip_data = all_trips_data.iloc[-2290075:]\n",
    "new_trip_data.head(5)"
   ]
  },
  {
   "cell_type": "code",
   "execution_count": null,
   "id": "8403adab",
   "metadata": {
    "collapsed": true
   },
   "outputs": [],
   "source": [
    "# \n",
    "# strange row number: \n",
    "#   664666  (data type not convertable)\n",
    "#   5446390 (data type not convertable)\n",
    "#   5529590 (already date)\n",
    "#   \n",
    "# we first tried to use this following code, but the data type is various in this column. \n",
    "# Also the for loop cost too much time processing this large dataset. \n",
    "# for i in range(all_trips_data.shape[0]):\n",
    "#     if i > 5529590 and (type(all_trips_data['start_time'].iloc[i]) is str): \n",
    "#         all_trips_data['start_time'].iloc[i] = datetime.strptime(all_trips_data['start_time'].iloc[i], '%Y-%m-%d %H:%M:%S')\n",
    "# type(all_trips_data['start_time'].iloc[5446390]) is datetime\n",
    "\n",
    "# all_trips_data = all_trips_data.drop(664666, axis = 0, inplace=True)\n",
    "# all_trips_data.shape\n",
    "\n",
    "# all_trips_data.reset_index(drop=True)\n",
    "\n",
    "# all_trips_data['start_time'][664666:5446390]\n",
    "\n",
    "# Therefore we finally use dichotomizing search to find the line which start time is 2020. This is much faster than using loops in this case. \n",
    "# all_trips_data = all_trips_data.iloc[-2293203:]\n",
    "# all_trips_data.shape\n",
    "# new_trip_data = all_trips_data.iloc[-2293203:]\n",
    "# new_trip_data.head(5)\n",
    "\n",
    "\n"
   ]
  },
  {
   "cell_type": "code",
   "execution_count": 93,
   "id": "f8ac1534",
   "metadata": {},
   "outputs": [
    {
     "name": "stderr",
     "output_type": "stream",
     "text": [
      "/Users/chenjuanqi/opt/anaconda3/lib/python3.9/site-packages/pandas/core/indexing.py:1732: SettingWithCopyWarning: \n",
      "A value is trying to be set on a copy of a slice from a DataFrame\n",
      "\n",
      "See the caveats in the documentation: https://pandas.pydata.org/pandas-docs/stable/user_guide/indexing.html#returning-a-view-versus-a-copy\n",
      "  self._setitem_single_block(indexer, value, name)\n"
     ]
    }
   ],
   "source": [
    "# if we change the datatype successfully, this should be the original coding\n",
    "# all_trips_data.head(-5)\n",
    "# int(all_trips_data['start_time'].iloc[0][0:4])<2020\n"
   ]
  },
  {
   "cell_type": "code",
   "execution_count": null,
   "id": "fe8d22c0",
   "metadata": {},
   "outputs": [],
   "source": [
    "# all_trips_data[all_trips_data['start_time'].all_trips_data.strftime('%Y')>='2020']\n",
    "# all_trips_data.shape"
   ]
  }
 ],
 "metadata": {
  "kernelspec": {
   "display_name": "Python 3 (ipykernel)",
   "language": "python",
   "name": "python3"
  },
  "language_info": {
   "codemirror_mode": {
    "name": "ipython",
    "version": 3
   },
   "file_extension": ".py",
   "mimetype": "text/x-python",
   "name": "python",
   "nbconvert_exporter": "python",
   "pygments_lexer": "ipython3",
   "version": "3.9.7"
  }
 },
 "nbformat": 4,
 "nbformat_minor": 5
}
